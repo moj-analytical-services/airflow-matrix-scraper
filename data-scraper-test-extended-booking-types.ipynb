{
 "cells": [
  {
   "cell_type": "code",
   "execution_count": null,
   "metadata": {},
   "outputs": [],
   "source": [
    "import pandas as pd\n",
    "import requests\n",
    "import json\n",
    "from dataengineeringutils import s3\n",
    "from dataengineeringutils.utils import read_json\n",
    "from dataengineeringutils.pd_metadata_conformance import impose_exact_conformance_on_pd_df\n",
    "import python_scripts.s3_utils as s3_utils\n",
    "from datetime import datetime, timedelta, date\n",
    "\n",
    "def get_secrets():\n",
    "    return(s3_utils.read_json_from_s3(\"alpha-dag-matrix/api_secrets/secrets.json\"))\n",
    "\n",
    "\n",
    "def matrix_authenticate(session):\n",
    "    secrets = get_secrets()\n",
    "    username = secrets['username']\n",
    "    password = secrets['password']\n",
    "  \n",
    "    url = \"https://app.matrixbooking.com/api/v1/user/login\"\n",
    "    r = session.post(url,json = {'username':username,'password': password})\n",
    "    return(session)\n",
    "\n",
    "\n",
    "def make_booking_params(time_from, time_to, booking_categories = 'ROOM', status = None, pageSize = None, pageNum = 0):\n",
    "    params = {'f': time_from,\n",
    "            't': time_to,\n",
    "            'bc': booking_categories,\n",
    "            'status': status,\n",
    "            'include': ['audit','locations'],\n",
    "            'pageSize': pageSize,\n",
    "            'pageNum': pageNum}\n",
    "    return(params)\n",
    "  \n",
    "\n",
    "def get_payload(session, url, parameters):\n",
    "    resp = session.get(url=url, cookies = session.cookies, params = parameters)\n",
    "    print(f\"GET {resp.url}\")\n",
    "    print(f\"response status code: {resp.status_code}\")\n",
    "    return resp.json()\n",
    "  \n",
    "def scrape_days_from_api(start_date, end_date):\n",
    "    \n",
    "    url = \"https://app.matrixbooking.com/api/v1/booking\"\n",
    "    page_size = 2500\n",
    "    status = ['CONFIRMED','TENTATIVE','CANCELLED']\n",
    "    \n",
    "    params = make_booking_params(start_date, end_date, pageNum = 0, pageSize = page_size, status = status)\n",
    "    \n",
    "    bookings = []\n",
    "    \n",
    "    ses = requests.session()\n",
    "    matrix_authenticate(ses)\n",
    "    # Scrape the first page of data\n",
    "    print(f\"scraping page 0\")\n",
    "    data = get_payload(ses, url, params)\n",
    "    rowcount = len(data['bookings'])\n",
    "    print(f\"records scraped: {rowcount}\")\n",
    "    \n",
    "    bookings = data['bookings']\n",
    "    locations = data['locations']\n",
    "\n",
    "    i = 1\n",
    "    total_rows = rowcount\n",
    "    while(rowcount == page_size):\n",
    "        print(f\"scraping page {i}\")\n",
    "        params = make_booking_params(start_date, end_date, pageNum = i, pageSize = page_size, status = status)\n",
    "        data = get_payload(ses, url, params)\n",
    "        rowcount = len(data['bookings'])\n",
    "        print(f\"records scraped: {rowcount}\")\n",
    "        if(rowcount > 0):\n",
    "            bookings.extend(data['bookings'])\n",
    "        i += 1\n",
    "        total_rows += rowcount\n",
    "    \n",
    "    print(f\"Retrieved {len(locations)} locations\")\n",
    "    \n",
    "    bookings_data = get_bookings_df(bookings)\n",
    "    s3.pd_write_csv_s3(bookings_data, f\"alpha-dag-matrix/bookings/{start_date}.csv\", index = False, header = False)\n",
    "    \n",
    "    locations_data = get_locations_df(locations)\n",
    "    s3.pd_write_csv_s3(locations_data, f\"alpha-dag-matrix/locations/data.csv\", index = False, header = False)\n",
    "    \n",
    "    \n",
    "    return(bookings, locations)\n",
    "\n",
    "                                                                    \n",
    "def get_scrape_dates(start_date, end_date):\n",
    "\n",
    "    def daterange(start_date, end_date):\n",
    "        for n in range(int ((end_date - start_date).days + 1)):\n",
    "            yield datetime.strftime(start_date + timedelta(n),\"%Y-%m-%d\")\n",
    "\n",
    "    start_date = datetime.strptime(start_date, \"%Y-%m-%d\").date()\n",
    "    end_date_1 = datetime.now().date() - timedelta(days=1)\n",
    "    end_date_2 = datetime.strptime(end_date, \"%Y-%m-%d\").date()\n",
    "    \n",
    "    if end_date_1 < end_date_2:\n",
    "        end_date = end_date_1\n",
    "    else:\n",
    "        end_date = end_date_2\n",
    "\n",
    "    return daterange(start_date, end_date)\n",
    "\n",
    "\n",
    "def get_bookings_df(bookings):\n",
    "    bookings_df = pd.io.json.json_normalize(bookings)\n",
    "    renames = read_json(\"metadata/bookings_renames.json\")\n",
    "    bookings_df = bookings_df[renames.keys()].rename(columns = renames)\n",
    "    bookings_metadata = read_json('metadata/bookings.json')\n",
    "    \n",
    "    bookings_df = impose_exact_conformance_on_pd_df(bookings_df, bookings_metadata)\n",
    "    \n",
    "    return(bookings_df)\n",
    "\n",
    "def get_locations_df(locations):\n",
    "    locations_df = pd.io.json.json_normalize(locations)\n",
    "    renames = read_json(\"metadata/locations_renames.json\")\n",
    "    locations_df = locations_df[renames.keys()].rename(columns = renames)\n",
    "    locations_metadata = read_json('metadata/locations.json')\n",
    "    \n",
    "    locations_df = impose_exact_conformance_on_pd_df(locations_df, locations_metadata)\n",
    "    \n",
    "    return(locations_df)\n",
    "\n",
    "\n"
   ]
  },
  {
   "cell_type": "code",
   "execution_count": null,
   "metadata": {},
   "outputs": [],
   "source": [
    "url = \"https://app.matrixbooking.com/api/v1/booking\"\n",
    "page_size = 1000\n",
    "status = ['CONFIRMED','TENTATIVE','CANCELLED']\n",
    "start_date = \"2023-09-27\"\n",
    "end_date = \"eod\"\n",
    "params = make_booking_params(start_date, end_date, pageNum = 0, pageSize = page_size, status = status)\n",
    "\n",
    "bookings = []\n",
    "\n",
    "ses = requests.session()\n",
    "matrix_authenticate(ses)"
   ]
  },
  {
   "cell_type": "markdown",
   "metadata": {},
   "source": [
    "# Default parameters"
   ]
  },
  {
   "cell_type": "code",
   "execution_count": null,
   "metadata": {},
   "outputs": [],
   "source": [
    "# Scrape the first page of data\n",
    "print(f\"scraping page 0\")\n",
    "data = get_payload(ses, url, params)"
   ]
  },
  {
   "cell_type": "code",
   "execution_count": null,
   "metadata": {},
   "outputs": [],
   "source": [
    "# Turn into dataframe\n",
    "df = pd.json_normalize(data['bookings'])\n",
    "df.shape\n"
   ]
  },
  {
   "cell_type": "code",
   "execution_count": null,
   "metadata": {},
   "outputs": [],
   "source": [
    "# Unique booking types\n",
    "df['locationKind'].unique()"
   ]
  },
  {
   "cell_type": "markdown",
   "metadata": {},
   "source": [
    "# All booking types"
   ]
  },
  {
   "cell_type": "markdown",
   "metadata": {},
   "source": [
    "## Get booking categories available"
   ]
  },
  {
   "cell_type": "code",
   "execution_count": null,
   "metadata": {},
   "outputs": [],
   "source": [
    "# Get booking categories\n",
    "res = requests.get(\"https://app.matrixbooking.com/api/v1/category\", cookies=ses.cookies).json()\n",
    "df_booking_categories = pd.json_normalize(res)\n",
    "\n",
    "# List of booking types\n",
    "booking_types = list(df_booking_categories['locationKind'])\n",
    "\n",
    "# Print out number and types of booking\n",
    "print(f\"There are {len(booking_types)} booking categories: {booking_types}\")"
   ]
  },
  {
   "cell_type": "markdown",
   "metadata": {},
   "source": [
    "## Make request"
   ]
  },
  {
   "cell_type": "code",
   "execution_count": null,
   "metadata": {},
   "outputs": [],
   "source": [
    "# Get parameters for all booking_types\n",
    "params = make_booking_params(start_date, end_date, booking_categories=booking_types, pageNum = 0, pageSize = page_size, status = status)\n",
    "\n",
    "# Make1 request\n",
    "data = get_payload(ses, url, params)\n"
   ]
  },
  {
   "cell_type": "markdown",
   "metadata": {},
   "source": [
    "## Bookings"
   ]
  },
  {
   "cell_type": "code",
   "execution_count": null,
   "metadata": {},
   "outputs": [],
   "source": [
    "# Convert full thing to dataframe\n",
    "bookings_df = pd.json_normalize(data['bookings'])\n",
    "bookings_df.shape"
   ]
  },
  {
   "cell_type": "markdown",
   "metadata": {},
   "source": [
    "## Locations"
   ]
  },
  {
   "cell_type": "code",
   "execution_count": null,
   "metadata": {},
   "outputs": [],
   "source": [
    "locations_df = pd.json_normalize(data['locations'])\n",
    "locations_df.shape"
   ]
  },
  {
   "cell_type": "markdown",
   "metadata": {},
   "source": [
    "## Write to s3 (parquet)"
   ]
  },
  {
   "cell_type": "code",
   "execution_count": null,
   "metadata": {},
   "outputs": [],
   "source": [
    "# Path for extended booking (test)\n",
    "parent_path = \"s3://alpha-dag-matrix/extended_categories\"\n",
    "booking_path = f\"{parent_path}/bookings_{start_date}.parquet\"\n",
    "locations_paths = f\"{parent_path}/locations_{start_date}.parquet\"\n",
    "\n",
    "# Write out the files\n",
    "bookings_df.to_parquet(booking_path)\n",
    "locations_df.to_parquet(locations_paths)\n"
   ]
  },
  {
   "cell_type": "code",
   "execution_count": null,
   "metadata": {},
   "outputs": [],
   "source": [
    "# What booking categories were used?\n",
    "bookings_df.locationKind.value_counts()"
   ]
  },
  {
   "cell_type": "code",
   "execution_count": null,
   "metadata": {},
   "outputs": [],
   "source": [
    "# Test read data in \n",
    "booking_df_test = pd.read_parquet(booking_path)\n",
    "booking_df_test.shape"
   ]
  }
 ],
 "metadata": {
  "kernelspec": {
   "display_name": "airflow-matrix-scraper",
   "language": "python",
   "name": "venv_airflow_matrix_scraper"
  },
  "language_info": {
   "codemirror_mode": {
    "name": "ipython",
    "version": 3
   },
   "file_extension": ".py",
   "mimetype": "text/x-python",
   "name": "python",
   "nbconvert_exporter": "python",
   "pygments_lexer": "ipython3",
   "version": "3.9.6"
  }
 },
 "nbformat": 4,
 "nbformat_minor": 4
}
